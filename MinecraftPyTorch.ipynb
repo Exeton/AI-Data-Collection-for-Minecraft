{
    "cells": [
        {
            "cell_type": "markdown",
            "source": [
                "# Minecraft Block Prediction\n",
                "\n",
                "This is my first prototype of an AI which takes a photo from Minecraft and predicts where there are blocks and where there is air.\n",
                "\n",
                "This notebook\n",
                "  - Provides basic visuilization of Minecraft Block Arrays\n",
                "  - Preprocesses images for training\n",
                "  - Provides a naive solution to solve the problem (73% accuracy)\n",
                "  - Provides a CNN solution (83% accuracy)"
            ],
            "metadata": {}
        },
        {
            "cell_type": "code",
            "execution_count": 2,
            "source": [
                "#TODO: Remove unnecessary imports \n",
                "import torch\n",
                "from torch.utils.data import Dataset\n",
                "from torchvision import datasets\n",
                "from torchvision.transforms import ToTensor\n",
                "import matplotlib.pyplot as plt\n",
                "import os\n",
                "import pandas as pd\n",
                "from torchvision.io import read_image\n",
                "\n",
                "from fastai.vision.all import *\n",
                "from fastdownload import *\n",
                "from fastbook import *\n",
                "import ipyvolume as ipv\n",
                "import numpy as np\n"
            ],
            "outputs": [
                {
                    "output_type": "stream",
                    "name": "stderr",
                    "text": [
                        "/home/ben/anaconda3/envs/ml2/lib/python3.8/site-packages/fastbook/__init__.py:19: UserWarning: Missing `graphviz` - please run `conda install fastbook`\n",
                        "  except ModuleNotFoundError: warn(\"Missing `graphviz` - please run `conda install fastbook`\")\n"
                    ]
                }
            ],
            "metadata": {}
        },
        {
            "cell_type": "code",
            "execution_count": 3,
            "source": [
                "train_path = Path('/home/ben/Desktop/Python/BlockDetection')\n",
                "test_path = Path('/home/ben/Desktop/Python/BlockDetectionValidation')\n",
                "train_files = train_path.ls()\n",
                "test_files = test_path.ls()\n",
                "train_files[0],  str(train_files[0].name)"
            ],
            "outputs": [
                {
                    "output_type": "execute_result",
                    "data": {
                        "text/plain": [
                            "(Path('/home/ben/Desktop/Python/BlockDetection/biome.minecraft.taiga_hills283.txt'),\n",
                            " 'biome.minecraft.taiga_hills283.txt')"
                        ]
                    },
                    "metadata": {},
                    "execution_count": 3
                }
            ],
            "metadata": {}
        },
        {
            "cell_type": "code",
            "execution_count": 4,
            "source": [
                "len(train_files[train_files.map(lambda f:f.is_file())]), len(train_files)"
            ],
            "outputs": [
                {
                    "output_type": "execute_result",
                    "data": {
                        "text/plain": [
                            "(20180, 20181)"
                        ]
                    },
                    "metadata": {},
                    "execution_count": 4
                }
            ],
            "metadata": {}
        },
        {
            "cell_type": "code",
            "execution_count": 5,
            "source": [
                "biome_types = L()\n",
                "for file in train_files:\n",
                "    match = re.findall('.*biome.minecraft.([a-z_]*)\\d*.txt', str(file))\n",
                "    if (len(match) != 0):\n",
                "        biome_types.append(match[0])\n",
                "\n",
                "biome_types = biome_types.unique()\n",
                "biome_types"
            ],
            "outputs": [
                {
                    "output_type": "execute_result",
                    "data": {
                        "text/plain": [
                            "(#41) ['taiga_hills','desert','plains','flower_forest','giant_tree_taiga','jungle','birch_forest','taiga_mountains','mountains','taiga'...]"
                        ]
                    },
                    "metadata": {},
                    "execution_count": 5
                }
            ],
            "metadata": {}
        },
        {
            "cell_type": "code",
            "execution_count": 6,
            "source": [
                "def is_air(block):\n",
                "    return block == 'air' or block == \"cave_air\""
            ],
            "outputs": [],
            "metadata": {}
        },
        {
            "cell_type": "code",
            "execution_count": 7,
            "source": [
                "def to_tensor(data_file_path):\n",
                "    df = pd.read_json(str(data_file_path))\n",
                "    list_len = len(df[0][0])\n",
                "    data = np.zeros((df.shape[0],df.shape[1], len(df[0][0])), dtype=np.float32)\n",
                "    for x in range(0, df.shape[0]):\n",
                "        for y in range(0, df.shape[1]):\n",
                "            for z in range(0, list_len):\n",
                "                is_block = not is_air(df[y][x][z]) \n",
                "                data[x,y,z] = 1. if is_block else 0.\n",
                "    return data"
            ],
            "outputs": [],
            "metadata": {}
        },
        {
            "cell_type": "code",
            "execution_count": 8,
            "source": [
                "to_tensor(train_files[0]).shape"
            ],
            "outputs": [
                {
                    "output_type": "execute_result",
                    "data": {
                        "text/plain": [
                            "(20, 7, 10)"
                        ]
                    },
                    "metadata": {},
                    "execution_count": 8
                }
            ],
            "metadata": {}
        },
        {
            "cell_type": "code",
            "execution_count": 9,
            "source": [
                "tensor = to_tensor(Path('/home/ben/Desktop/Python/BlockDetectionValidation/biome.minecraft.birch_forest106.txt'))\n",
                "\n",
                "#Number of air blocks\n",
                "1400 - tensor.sum()"
            ],
            "outputs": [
                {
                    "output_type": "execute_result",
                    "data": {
                        "text/plain": [
                            "760.0"
                        ]
                    },
                    "metadata": {},
                    "execution_count": 9
                }
            ],
            "metadata": {}
        },
        {
            "cell_type": "code",
            "execution_count": 10,
            "source": [
                "def to_scatter(block_tensor):\n",
                "    total = 0\n",
                "    a,b,c = [0],[0],[0]\n",
                "    for x in range(0, block_tensor.shape[0]):\n",
                "        for y in range(0, block_tensor.shape[1]):\n",
                "            for z in range(0, 10):#TODO: Fix\n",
                "                if (block_tensor[x][y][z] == 1):\n",
                "                    a.append(x)\n",
                "                    b.append(y)\n",
                "                    c.append(z)\n",
                "                    total = total + 1\n",
                "\n",
                "    return np.asarray(a, dtype=np.float32), np.asarray(b, dtype=np.float32), np.asarray(c, dtype=np.float32)\n",
                "\n",
                "tensor = to_tensor(Path('/home/ben/Desktop/Python/BlockDetectionValidation/biome.minecraft.birch_forest102.txt'))\n",
                "x_out, y_out, z_out = to_scatter(tensor)"
            ],
            "outputs": [],
            "metadata": {}
        },
        {
            "cell_type": "code",
            "execution_count": 11,
            "source": [
                "def show_scatter(block_tensor):\n",
                "    ipv.figure()\n",
                "    x_out, y_out, z_out = to_scatter(block_tensor)\n",
                "    ipv.scatter(x_out, y_out, z_out)\n",
                "    ipv.show()\n",
                "def show_scatter_from_path(path):\n",
                "    show_scatter(to_tensor(path))\n"
            ],
            "outputs": [],
            "metadata": {}
        },
        {
            "cell_type": "code",
            "execution_count": 12,
            "source": [
                "def to_image_path(file_path):\n",
                "    image_file = str(file_path).replace('BlockDetectionValidation', 'BlockDetectionValidation/screenshots')\n",
                "    if \"BlockDetectionValidation\" not in image_file:\n",
                "        image_file = image_file.replace('BlockDetection', 'BlockDetection/screenshots')\n",
                "    image_file = image_file.replace('.txt', '.png')\n",
                "    return image_file"
            ],
            "outputs": [],
            "metadata": {}
        },
        {
            "cell_type": "code",
            "execution_count": 13,
            "source": [
                "example_path = '/home/ben/Desktop/Python/BlockDetectionValidation/biome.minecraft.birch_forest104.txt'\n",
                "show_scatter_from_path(Path(example_path))\n",
                "im = to_image_path(example_path)\n",
                "Image.open(im)"
            ],
            "outputs": [
                {
                    "output_type": "display_data",
                    "data": {
                        "text/plain": [
                            "VBox(children=(Figure(camera=PerspectiveCamera(fov=45.0, position=(0.0, 0.0, 2.0), projectionMatrix=(1.0, 0.0,…"
                        ],
                        "application/vnd.jupyter.widget-view+json": {
                            "version_major": 2,
                            "version_minor": 0,
                            "model_id": "c90bfa2f080f4722aa1f07af3588d7b5"
                        }
                    },
                    "metadata": {}
                },
                {
                    "output_type": "execute_result",
                    "data": {
                        "text/plain": [
                            "<PIL.PngImagePlugin.PngImageFile image mode=RGB size=100x100 at 0x7FB7B5A19250>"
                        ],
                        "image/png": "[encoded data removed]"
                    },
                    "metadata": {},
                    "execution_count": 13
                }
            ],
            "metadata": {}
        },
        {
            "cell_type": "code",
            "execution_count": 14,
            "source": [
                "def prepare_images(path):\n",
                "    data_files =path.ls()\n",
                "\n",
                "    data_files =data_files[data_files.map(lambda f:f.is_file())]\n",
                "    len(data_files)\n",
                "\n",
                "    for data_file in data_files:\n",
                "        #image_file = str(data_file).replace('BlockDetection', 'BlockDetection/screenshots')\n",
                "        image_file = to_image_path(str(data_file))\n",
                "        open_image = Image.open(image_file)\n",
                "        if (open_image.mode != 'RGB'):\n",
                "            print('Updating File to be RGB 100x100')\n",
                "            Image.open(image_file).convert('RGB').save(image_file)\n",
                "            Image.open(image_file).resize((100, 100)).save(image_file)"
            ],
            "outputs": [],
            "metadata": {}
        },
        {
            "cell_type": "code",
            "execution_count": 15,
            "source": [
                "prepare_images(Path('/home/ben/Desktop/Python/BlockDetectionValidation'))\n",
                "prepare_images(Path('/home/ben/Desktop/Python/BlockDetection'))"
            ],
            "outputs": [],
            "metadata": {}
        },
        {
            "cell_type": "code",
            "execution_count": 16,
            "source": [
                "import multiprocessing"
            ],
            "outputs": [],
            "metadata": {}
        },
        {
            "cell_type": "code",
            "execution_count": 17,
            "source": [
                "#def process(dataset, file):\n",
                "    #dataset.\n"
            ],
            "outputs": [],
            "metadata": {}
        },
        {
            "cell_type": "code",
            "execution_count": 18,
            "source": [
                "#https://pytorch.org/tutorials/beginner/basics/data_tutorial.html#creating-a-custom-dataset-for-your-files\n",
                "#load_size = 1000\n",
                "\n",
                "class CustomDataset(Dataset):\n",
                "    def __init__(self, data_path):\n",
                "        self.data_path = data_path\n",
                "        self.files = data_path.ls()\n",
                "        self.files = self.files[self.files.map(lambda f:f.is_file())]\n",
                "        #self.files = self.files[0:load_size]\n",
                "        self.images = self.files.map(lambda f: self.__getimage__(f))\n",
                "        self.y = self.files.map(lambda f: to_tensor(f))\n",
                "    def __len__(self):\n",
                "        return len(self.files)\n",
                "    def __getitem__(self, idx):\n",
                "        return self.images[idx], self.y[idx]\n",
                "    def __getimage__(self, path):\n",
                "        #print(path)\n",
                "        image_file = to_image_path(path)\n",
                "        image = read_image(image_file)\n",
                "        image_float = image / 255\n",
                "        return image_float\n"
            ],
            "outputs": [],
            "metadata": {}
        },
        {
            "cell_type": "code",
            "execution_count": 19,
            "source": [
                "from torch.utils.data import DataLoader\n",
                "\n",
                "BATCH_SIZE = 64\n",
                "\n",
                "train_data_folder = Path('/home/ben/Desktop/Python/BlockDetection')\n",
                "test_data_folder = Path('/home/ben/Desktop/Python/BlockDetectionValidation')\n",
                "train_dataloader = DataLoader(CustomDataset(train_data_folder), batch_size=BATCH_SIZE, shuffle=True)\n",
                "test_dataloader = DataLoader(CustomDataset(test_data_folder), batch_size=64, shuffle=True)"
            ],
            "outputs": [],
            "metadata": {}
        },
        {
            "cell_type": "code",
            "execution_count": 20,
            "source": [
                "for X, y in train_dataloader:\n",
                "    print(X.shape)\n",
                "    print(y.shape)\n",
                "    break"
            ],
            "outputs": [
                {
                    "output_type": "stream",
                    "name": "stdout",
                    "text": [
                        "torch.Size([64, 3, 100, 100])\n",
                        "torch.Size([64, 20, 7, 10])\n"
                    ]
                }
            ],
            "metadata": {}
        },
        {
            "cell_type": "code",
            "execution_count": 21,
            "source": [
                "# Get cpu or gpu device for training.\n",
                "device = \"cuda\" if torch.cuda.is_available() else \"cpu\"\n",
                "print(\"Using {} device\".format(device))\n"
            ],
            "outputs": [
                {
                    "output_type": "stream",
                    "name": "stdout",
                    "text": [
                        "Using cuda device\n"
                    ]
                }
            ],
            "metadata": {}
        },
        {
            "cell_type": "code",
            "execution_count": 32,
            "source": [
                "a = 0\n",
                "size = len(train_dataloader.dataset)\n",
                "for batch, (X, y) in enumerate(train_dataloader):\n",
                "    y = y.to(device)\n",
                "    y = y.reshape(-1,1400)\n",
                "    a = a + torch.sum(y, dim= 0)\n",
                "    #print(a.shape) \n",
                "\n",
                "print(a.shape)\n",
                "print(a)\n",
                "a = a / size\n",
                "a = a > 0.5\n",
                "a = a.type(torch.float)\n",
                "\n",
                "\n",
                "print(a.sum() / 1400)"
            ],
            "outputs": [
                {
                    "output_type": "stream",
                    "name": "stdout",
                    "text": [
                        "torch.Size([1400])\n",
                        "tensor([14413., 15040., 15808.,  ...,  2938.,  2954.,  2941.], device='cuda:0')\n",
                        "tensor(0.2857, device='cuda:0')\n"
                    ]
                }
            ],
            "metadata": {}
        },
        {
            "cell_type": "code",
            "execution_count": 36,
            "source": [
                "size = len(train_dataloader.dataset)\n",
                "total_dif = 0\n",
                "for batch, (X, y) in enumerate(train_dataloader):\n",
                "    y = y.to(device)\n",
                "    y = y.reshape(-1,1400)\n",
                "    total_dif += (y - a).abs().sum()\n",
                "    #print(a.shape) \n",
                "\n",
                "train_accuracy = 1 - ((total_dif) / (1400 * size))\n",
                "\n",
                "\n",
                "size = len(test_dataloader.dataset)\n",
                "total_dif = 0\n",
                "for batch, (X, y) in enumerate(test_dataloader):\n",
                "    y = y.to(device)\n",
                "    y = y.reshape(-1,1400)\n",
                "    total_dif += (y - a).abs().sum()\n",
                "    #print(a.shape) \n",
                "\n",
                "test_accuracy = 1 - ((total_dif) / (1400 * size))\n",
                "\n",
                "\n",
                "print('Train accuracy ' + str(train_accuracy))\n",
                "print('Test accuracy ' + str(test_accuracy))\n",
                "\n"
            ],
            "outputs": [
                {
                    "output_type": "stream",
                    "name": "stdout",
                    "text": [
                        "Train accuracy tensor(0.7439, device='cuda:0')\n",
                        "Test accuracy tensor(0.7316, device='cuda:0')\n"
                    ]
                }
            ],
            "metadata": {}
        },
        {
            "cell_type": "code",
            "execution_count": 21,
            "source": [
                "def train(dataloader, model, loss_fn, optimizer):\n",
                "    size = len(dataloader.dataset)\n",
                "    model.train()\n",
                "    for batch, (X, y) in enumerate(dataloader):\n",
                "        X, y = X.to(device), y.to(device)\n",
                "        pred = model(X)\n",
                "        y =y.reshape(-1,1400)\n",
                "        loss = loss_fn(pred, y)\n",
                "\n",
                "        # Backpropagation\n",
                "        optimizer.zero_grad()\n",
                "        loss.backward()\n",
                "        optimizer.step()\n",
                "\n",
                "        if batch % 100 == 0:\n",
                "            loss, current = loss.item(), batch * len(X)\n",
                "            print(f\"loss: {loss:>7f}  [{current:>5d}/{size:>5d}]\")"
            ],
            "outputs": [],
            "metadata": {}
        },
        {
            "cell_type": "code",
            "execution_count": 22,
            "source": [
                "def test(dataloader, model, loss_fn):\n",
                "    num_batches = len(dataloader)\n",
                "    model.eval()\n",
                "    total = 0\n",
                "    test_loss, correct = 0, 0\n",
                "    with torch.no_grad():\n",
                "        for X, y in dataloader:\n",
                "            X, y = X.to(device), y.to(device).reshape(-1, 1400)\n",
                "            pred = model(X)\n",
                "            test_loss += loss_fn(pred, y).item()            \n",
                "            pred = pred > 0.5\n",
                "            #print(pred.shape)\n",
                "            #print('Pred shape, y shape' + str(pred.shape) + str(y.shape))\n",
                "            accuracy = (pred.type(torch.float) - y).abs().sum() / (1400 * y.shape[0])      \n",
                "            #print('Y sum' + str(y.sum()))\n",
                "            #print(pred.type(torch.float).sum())\n",
                "            #print('Acc:' + str(accuracy))\n",
                "            correct += accuracy.item()\n",
                "            total = total + 1\n",
                "    test_loss /= num_batches\n",
                "    correct /= total\n",
                "    correct = 1 - correct\n",
                "    print(\"Accuracy: \" + str(correct))\n",
                "    print(f\"Test loss: {test_loss:>8f} \\n\")"
            ],
            "outputs": [],
            "metadata": {}
        },
        {
            "cell_type": "code",
            "execution_count": 23,
            "source": [
                "\n",
                "# Define model\n",
                "class NeuralNetwork(nn.Module):\n",
                "    def __init__(self):\n",
                "        #https://adventuresinmachinelearning.com/convolutional-neural-networks-tutorial-in-pytorch/\n",
                "        super(NeuralNetwork, self).__init__()\n",
                "        self.layer1 = nn.Sequential(\n",
                "            nn.Conv2d(3, 32, kernel_size=5, stride=1, padding=2),\n",
                "            nn.ReLU(),\n",
                "            nn.Dropout(),\n",
                "            nn.MaxPool2d(kernel_size=2, stride=2),\n",
                "            nn.Conv2d(32, 64, kernel_size=5, stride=1, padding=2),\n",
                "            nn.ReLU(),\n",
                "            nn.MaxPool2d(kernel_size=2, stride=2),\n",
                "            #nn.Conv2d(64, 128, kernel_size=5, stride=1, padding=2),\n",
                "            #nn.ReLU(),          \n",
                "            )\n",
                "        self.layer2 =nn.Sequential(\n",
                "            nn.Conv2d(64,64, kernel_size=5, stride=1, padding=2),\n",
                "            nn.ReLU(),\n",
                "            \n",
                "            nn.Conv2d(64,64, kernel_size=5, stride=1, padding=2),\n",
                "            nn.ReLU(),\n",
                "            nn.Dropout(),\n",
                "            nn.Conv2d(64,128, kernel_size=5, stride=1, padding=2),\n",
                "            nn.ReLU(),\n",
                "            nn.Dropout(),\n",
                "            nn.Conv2d(128,128, kernel_size=5, stride=1, padding=2),\n",
                "            nn.ReLU(),\n",
                "            nn.Dropout()\n",
                "            #nn.MaxPool2d(kernel_size=5, stride=2),\n",
                "            #nn.Conv2d(256,256, kernel_size=5, stride=1, padding=2),\n",
                "            #nn.ReLU(),\n",
                "            #nn.MaxPool2d(kernel_size=5, stride=2),\n",
                "            )\n",
                "        self.dropout = nn.Dropout()\n",
                "        self.fc1 =nn.Linear(80000, 20*7*10)#80000  #36864 #7*7*64\n",
                "        #self.fc2 = nn.Linear(20*7*10, 20*7*10)\n",
                "        self.fc3 = nn.Sigmoid()\n",
                "        \n",
                "        #self.linear_relu_stack = nn.Sequential(\n",
                "        #    nn.Linear(3*100*100, 512),\n",
                "        #    nn.ReLU(),\n",
                "        #    nn.Linear(512, 512),\n",
                "        #    nn.ReLU(),\n",
                "        #    nn.Linear(512, 20*7*10)\n",
                "            #nn.Sigmoid\n",
                "        #)\n",
                "\n",
                "    def forward(self, x):\n",
                "        #print(x.shape)\n",
                "        out = self.layer1(x)\n",
                "        #print(out.shape)\n",
                "        out = self.layer2(out)\n",
                "        out = out.reshape(out.size(0), -1)#\n",
                "        out = self.dropout(out)\n",
                "        #print('Out size' + str(out.size()))\n",
                "        out = self.fc1(out)\n",
                "        #out = self.fc2(out)\n",
                "        out = self.fc3(out)\n",
                "        #logits = self.linear_relu_stack(x)\n",
                "        return out\n",
                "\n",
                "##model = NeuralNetwork().to(device)\n",
                "#print(model)"
            ],
            "outputs": [],
            "metadata": {}
        },
        {
            "cell_type": "code",
            "execution_count": 24,
            "source": [
                "model = NeuralNetwork().to(device)\n",
                "#loss_fn = nn.L1Loss()#nn.BCELoss() #nn.CrossEntropyLoss()\n",
                "loss_fn = nn.BCELoss()\n",
                "#optimizer = torch.optim.SGD(model.parameters(), lr=1e-3)\n",
                "optimizer = torch.optim.Adam(model.parameters(), lr=0.0001, weight_decay=1e-5)\n",
                "\n"
            ],
            "outputs": [],
            "metadata": {}
        },
        {
            "cell_type": "code",
            "execution_count": 25,
            "source": [
                "epochs = 1\n",
                "for t in range(epochs):\n",
                "    print(f\"Epoch {t+1}\\n-------------------------------\")\n",
                "    train(train_dataloader, model, loss_fn, optimizer)\n",
                "    #test(train_dataloader, model, loss_fn)\n",
                "    test(test_dataloader, model, loss_fn)    \n",
                "print(\"Done!\")"
            ],
            "outputs": [
                {
                    "output_type": "stream",
                    "name": "stdout",
                    "text": [
                        "Epoch 1\n",
                        "-------------------------------\n",
                        "loss: 0.693152  [    0/20180]\n",
                        "loss: 0.500489  [ 6400/20180]\n",
                        "loss: 0.478495  [12800/20180]\n",
                        "loss: 0.481296  [19200/20180]\n",
                        "Accuracy: 0.7644092777500981\n",
                        "Test loss: 0.489699 \n",
                        "\n",
                        "Done!\n"
                    ]
                }
            ],
            "metadata": {}
        },
        {
            "cell_type": "code",
            "execution_count": 26,
            "source": [
                "def compute_dif(pred, actual):\n",
                "    model.eval()\n",
                "    with torch.no_grad():\n",
                "        pred = pred < 0.5\n",
                "        accuracy = (pred.type(torch.float) - actual).abs().sum() / (1400 * pred.size(0))\n",
                "        return accuracy\n"
            ],
            "outputs": [],
            "metadata": {}
        },
        {
            "cell_type": "code",
            "execution_count": 27,
            "source": [
                "epochs = 30\n",
                "for t in range(epochs):\n",
                "    print(f\"Epoch {t+1}\\n-------------------------------\")\n",
                "    train(train_dataloader, model, loss_fn, optimizer)\n",
                "    #test(train_dataloader, model, loss_fn)\n",
                "    test(test_dataloader, model, loss_fn)  \n",
                "print(\"Done!\")"
            ],
            "outputs": [
                {
                    "output_type": "stream",
                    "name": "stdout",
                    "text": [
                        "Epoch 1\n",
                        "-------------------------------\n",
                        "loss: 0.432971  [    0/20180]\n",
                        "loss: 0.428522  [ 6400/20180]\n",
                        "loss: 0.458958  [12800/20180]\n",
                        "loss: 0.484970  [19200/20180]\n",
                        "Accuracy: 0.7698473710080852\n",
                        "Test loss: 0.488767 \n",
                        "\n",
                        "Epoch 2\n",
                        "-------------------------------\n",
                        "loss: 0.449430  [    0/20180]\n",
                        "loss: 0.450993  [ 6400/20180]\n",
                        "loss: 0.402605  [12800/20180]\n",
                        "loss: 0.374227  [19200/20180]\n",
                        "Accuracy: 0.7882811206838359\n",
                        "Test loss: 0.469235 \n",
                        "\n",
                        "Epoch 3\n",
                        "-------------------------------\n",
                        "loss: 0.424212  [    0/20180]\n",
                        "loss: 0.406855  [ 6400/20180]\n",
                        "loss: 0.373642  [12800/20180]\n",
                        "loss: 0.390643  [19200/20180]\n",
                        "Accuracy: 0.7916484786116559\n",
                        "Test loss: 0.449420 \n",
                        "\n",
                        "Epoch 4\n",
                        "-------------------------------\n",
                        "loss: 0.409904  [    0/20180]\n",
                        "loss: 0.357252  [ 6400/20180]\n",
                        "loss: 0.346799  [12800/20180]\n",
                        "loss: 0.366510  [19200/20180]\n",
                        "Accuracy: 0.7942759673232618\n",
                        "Test loss: 0.439383 \n",
                        "\n",
                        "Epoch 5\n",
                        "-------------------------------\n",
                        "loss: 0.376451  [    0/20180]\n",
                        "loss: 0.386219  [ 6400/20180]\n",
                        "loss: 0.359027  [12800/20180]\n",
                        "loss: 0.329389  [19200/20180]\n",
                        "Accuracy: 0.7930137048596921\n",
                        "Test loss: 0.440635 \n",
                        "\n",
                        "Epoch 6\n",
                        "-------------------------------\n",
                        "loss: 0.378729  [    0/20180]\n",
                        "loss: 0.418011  [ 6400/20180]\n",
                        "loss: 0.310787  [12800/20180]\n",
                        "loss: 0.378531  [19200/20180]\n",
                        "Accuracy: 0.7961210589046064\n",
                        "Test loss: 0.439417 \n",
                        "\n",
                        "Epoch 7\n",
                        "-------------------------------\n",
                        "loss: 0.428923  [    0/20180]\n",
                        "loss: 0.372149  [ 6400/20180]\n",
                        "loss: 0.340096  [12800/20180]\n",
                        "loss: 0.358075  [19200/20180]\n",
                        "Accuracy: 0.7946230529443077\n",
                        "Test loss: 0.441601 \n",
                        "\n",
                        "Epoch 8\n",
                        "-------------------------------\n",
                        "loss: 0.384622  [    0/20180]\n",
                        "loss: 0.356498  [ 6400/20180]\n",
                        "loss: 0.388391  [12800/20180]\n",
                        "loss: 0.324341  [19200/20180]\n",
                        "Accuracy: 0.806880296572395\n",
                        "Test loss: 0.415440 \n",
                        "\n",
                        "Epoch 9\n",
                        "-------------------------------\n",
                        "loss: 0.343145  [    0/20180]\n",
                        "loss: 0.361070  [ 6400/20180]\n",
                        "loss: 0.325623  [12800/20180]\n",
                        "loss: 0.352868  [19200/20180]\n",
                        "Accuracy: 0.8049202904753063\n",
                        "Test loss: 0.420999 \n",
                        "\n",
                        "Epoch 10\n",
                        "-------------------------------\n",
                        "loss: 0.363070  [    0/20180]\n",
                        "loss: 0.312898  [ 6400/20180]\n",
                        "loss: 0.358722  [12800/20180]\n",
                        "loss: 0.353662  [19200/20180]\n",
                        "Accuracy: 0.8077063217111256\n",
                        "Test loss: 0.412725 \n",
                        "\n",
                        "Epoch 11\n",
                        "-------------------------------\n",
                        "loss: 0.358686  [    0/20180]\n",
                        "loss: 0.334106  [ 6400/20180]\n",
                        "loss: 0.411431  [12800/20180]\n",
                        "loss: 0.339003  [19200/20180]\n",
                        "Accuracy: 0.8224989434947139\n",
                        "Test loss: 0.388161 \n",
                        "\n",
                        "Epoch 12\n",
                        "-------------------------------\n",
                        "loss: 0.333277  [    0/20180]\n",
                        "loss: 0.345636  [ 6400/20180]\n",
                        "loss: 0.325643  [12800/20180]\n",
                        "loss: 0.328490  [19200/20180]\n",
                        "Accuracy: 0.8205041334680889\n",
                        "Test loss: 0.389156 \n",
                        "\n",
                        "Epoch 13\n",
                        "-------------------------------\n",
                        "loss: 0.373367  [    0/20180]\n",
                        "loss: 0.353150  [ 6400/20180]\n",
                        "loss: 0.341843  [12800/20180]\n",
                        "loss: 0.348222  [19200/20180]\n",
                        "Accuracy: 0.8204208437515341\n",
                        "Test loss: 0.393116 \n",
                        "\n",
                        "Epoch 14\n",
                        "-------------------------------\n",
                        "loss: 0.328015  [    0/20180]\n",
                        "loss: 0.331847  [ 6400/20180]\n",
                        "loss: 0.305410  [12800/20180]\n",
                        "loss: 0.339349  [19200/20180]\n",
                        "Accuracy: 0.8193709435670272\n",
                        "Test loss: 0.392866 \n",
                        "\n",
                        "Epoch 15\n",
                        "-------------------------------\n",
                        "loss: 0.331596  [    0/20180]\n",
                        "loss: 0.291015  [ 6400/20180]\n",
                        "loss: 0.351618  [12800/20180]\n",
                        "loss: 0.283422  [19200/20180]\n",
                        "Accuracy: 0.8185312871051871\n",
                        "Test loss: 0.395232 \n",
                        "\n",
                        "Epoch 16\n",
                        "-------------------------------\n",
                        "loss: 0.334520  [    0/20180]\n",
                        "loss: 0.334860  [ 6400/20180]\n",
                        "loss: 0.331579  [12800/20180]\n",
                        "loss: 0.331671  [19200/20180]\n",
                        "Accuracy: 0.8167990394260572\n",
                        "Test loss: 0.397313 \n",
                        "\n",
                        "Epoch 17\n",
                        "-------------------------------\n",
                        "loss: 0.311781  [    0/20180]\n",
                        "loss: 0.386234  [ 6400/20180]\n",
                        "loss: 0.324245  [12800/20180]\n",
                        "loss: 0.293414  [19200/20180]\n",
                        "Accuracy: 0.8246987960908724\n",
                        "Test loss: 0.383916 \n",
                        "\n",
                        "Epoch 18\n",
                        "-------------------------------\n",
                        "loss: 0.333982  [    0/20180]\n",
                        "loss: 0.334125  [ 6400/20180]\n",
                        "loss: 0.365832  [12800/20180]\n",
                        "loss: 0.335470  [19200/20180]\n",
                        "Accuracy: 0.826022950851399\n",
                        "Test loss: 0.384714 \n",
                        "\n",
                        "Epoch 19\n",
                        "-------------------------------\n",
                        "loss: 0.314690  [    0/20180]\n",
                        "loss: 0.339606  [ 6400/20180]\n",
                        "loss: 0.369145  [12800/20180]\n",
                        "loss: 0.292767  [19200/20180]\n",
                        "Accuracy: 0.8216951949440915\n",
                        "Test loss: 0.388614 \n",
                        "\n",
                        "Epoch 20\n",
                        "-------------------------------\n",
                        "loss: 0.339106  [    0/20180]\n",
                        "loss: 0.316888  [ 6400/20180]\n",
                        "loss: 0.332603  [12800/20180]\n",
                        "loss: 0.352448  [19200/20180]\n",
                        "Accuracy: 0.8263361130071722\n",
                        "Test loss: 0.382178 \n",
                        "\n",
                        "Epoch 21\n",
                        "-------------------------------\n",
                        "loss: 0.311775  [    0/20180]\n",
                        "loss: 0.299061  [ 6400/20180]\n",
                        "loss: 0.291525  [12800/20180]\n",
                        "loss: 0.329886  [19200/20180]\n",
                        "Accuracy: 0.8247993303381879\n",
                        "Test loss: 0.385343 \n",
                        "\n",
                        "Epoch 22\n",
                        "-------------------------------\n",
                        "loss: 0.325931  [    0/20180]\n",
                        "loss: 0.305188  [ 6400/20180]\n",
                        "loss: 0.321261  [12800/20180]\n",
                        "loss: 0.334003  [19200/20180]\n",
                        "Accuracy: 0.8257385945838431\n",
                        "Test loss: 0.384814 \n",
                        "\n",
                        "Epoch 23\n",
                        "-------------------------------\n",
                        "loss: 0.300181  [    0/20180]\n",
                        "loss: 0.301908  [ 6400/20180]\n",
                        "loss: 0.317741  [12800/20180]\n",
                        "loss: 0.325007  [19200/20180]\n",
                        "Accuracy: 0.8174735793600911\n",
                        "Test loss: 0.395468 \n",
                        "\n",
                        "Epoch 24\n",
                        "-------------------------------\n",
                        "loss: 0.307646  [    0/20180]\n",
                        "loss: 0.289113  [ 6400/20180]\n",
                        "loss: 0.357412  [12800/20180]\n",
                        "loss: 0.347994  [19200/20180]\n",
                        "Accuracy: 0.8266838581665703\n",
                        "Test loss: 0.378769 \n",
                        "\n",
                        "Epoch 25\n",
                        "-------------------------------\n",
                        "loss: 0.307176  [    0/20180]\n",
                        "loss: 0.266249  [ 6400/20180]\n",
                        "loss: 0.309504  [12800/20180]\n",
                        "loss: 0.301662  [19200/20180]\n",
                        "Accuracy: 0.8273717184429583\n",
                        "Test loss: 0.380500 \n",
                        "\n",
                        "Epoch 26\n",
                        "-------------------------------\n",
                        "loss: 0.318881  [    0/20180]\n",
                        "loss: 0.301445  [ 6400/20180]\n",
                        "loss: 0.296329  [12800/20180]\n",
                        "loss: 0.322420  [19200/20180]\n",
                        "Accuracy: 0.8292063558879106\n",
                        "Test loss: 0.375704 \n",
                        "\n",
                        "Epoch 27\n",
                        "-------------------------------\n",
                        "loss: 0.360940  [    0/20180]\n",
                        "loss: 0.327355  [ 6400/20180]\n",
                        "loss: 0.289731  [12800/20180]\n",
                        "loss: 0.300410  [19200/20180]\n",
                        "Accuracy: 0.8190709715304167\n",
                        "Test loss: 0.398830 \n",
                        "\n",
                        "Epoch 28\n",
                        "-------------------------------\n",
                        "loss: 0.348900  [    0/20180]\n",
                        "loss: 0.305305  [ 6400/20180]\n",
                        "loss: 0.296230  [12800/20180]\n",
                        "loss: 0.337490  [19200/20180]\n",
                        "Accuracy: 0.8180784628443096\n",
                        "Test loss: 0.399311 \n",
                        "\n",
                        "Epoch 29\n",
                        "-------------------------------\n",
                        "loss: 0.340342  [    0/20180]\n",
                        "loss: 0.299321  [ 6400/20180]\n",
                        "loss: 0.322398  [12800/20180]\n",
                        "loss: 0.306089  [19200/20180]\n",
                        "Accuracy: 0.8248872471892316\n",
                        "Test loss: 0.389527 \n",
                        "\n",
                        "Epoch 30\n",
                        "-------------------------------\n",
                        "loss: 0.273911  [    0/20180]\n",
                        "loss: 0.304476  [ 6400/20180]\n",
                        "loss: 0.304260  [12800/20180]\n",
                        "loss: 0.308975  [19200/20180]\n",
                        "Accuracy: 0.8259217998255854\n",
                        "Test loss: 0.385998 \n",
                        "\n",
                        "Done!\n"
                    ]
                }
            ],
            "metadata": {}
        },
        {
            "cell_type": "code",
            "execution_count": 28,
            "source": [
                "epochs = 30\n",
                "for t in range(epochs):\n",
                "    print(f\"Epoch {t+1}\\n-------------------------------\")\n",
                "    train(train_dataloader, model, loss_fn, optimizer)\n",
                "    #test(train_dataloader, model, loss_fn)\n",
                "    test(test_dataloader, model, loss_fn)    \n",
                "print(\"Done!\")"
            ],
            "outputs": [
                {
                    "output_type": "stream",
                    "name": "stdout",
                    "text": [
                        "Epoch 1\n",
                        "-------------------------------\n",
                        "loss: 0.307439  [    0/20180]\n",
                        "loss: 0.317669  [ 6400/20180]\n",
                        "loss: 0.351856  [12800/20180]\n",
                        "loss: 0.295455  [19200/20180]\n",
                        "Accuracy: 0.8291703598654788\n",
                        "Test loss: 0.378889 \n",
                        "\n",
                        "Epoch 2\n",
                        "-------------------------------\n",
                        "loss: 0.276453  [    0/20180]\n",
                        "loss: 0.350203  [ 6400/20180]\n",
                        "loss: 0.283634  [12800/20180]\n",
                        "loss: 0.272893  [19200/20180]\n",
                        "Accuracy: 0.8269932257092517\n",
                        "Test loss: 0.382221 \n",
                        "\n",
                        "Epoch 3\n",
                        "-------------------------------\n",
                        "loss: 0.272122  [    0/20180]\n",
                        "loss: 0.258076  [ 6400/20180]\n",
                        "loss: 0.304869  [12800/20180]\n",
                        "loss: 0.304071  [19200/20180]\n",
                        "Accuracy: 0.8258428366287895\n",
                        "Test loss: 0.386450 \n",
                        "\n",
                        "Epoch 4\n",
                        "-------------------------------\n",
                        "loss: 0.290387  [    0/20180]\n",
                        "loss: 0.311041  [ 6400/20180]\n",
                        "loss: 0.270576  [12800/20180]\n",
                        "loss: 0.293333  [19200/20180]\n",
                        "Accuracy: 0.8318854570388794\n",
                        "Test loss: 0.371883 \n",
                        "\n",
                        "Epoch 5\n",
                        "-------------------------------\n",
                        "loss: 0.327142  [    0/20180]\n",
                        "loss: 0.292779  [ 6400/20180]\n",
                        "loss: 0.309437  [12800/20180]\n",
                        "loss: 0.318608  [19200/20180]\n",
                        "Accuracy: 0.830027927523074\n",
                        "Test loss: 0.376334 \n",
                        "\n",
                        "Epoch 6\n",
                        "-------------------------------\n",
                        "loss: 0.259974  [    0/20180]\n",
                        "loss: 0.328136  [ 6400/20180]\n",
                        "loss: 0.243874  [12800/20180]\n",
                        "loss: 0.270295  [19200/20180]\n",
                        "Accuracy: 0.8294640669356221\n",
                        "Test loss: 0.380102 \n",
                        "\n",
                        "Epoch 7\n",
                        "-------------------------------\n",
                        "loss: 0.291169  [    0/20180]\n",
                        "loss: 0.233991  [ 6400/20180]\n",
                        "loss: 0.297736  [12800/20180]\n",
                        "loss: 0.335738  [19200/20180]\n",
                        "Accuracy: 0.8282547398753788\n",
                        "Test loss: 0.379537 \n",
                        "\n",
                        "Epoch 8\n",
                        "-------------------------------\n",
                        "loss: 0.277934  [    0/20180]\n",
                        "loss: 0.266975  [ 6400/20180]\n",
                        "loss: 0.274518  [12800/20180]\n",
                        "loss: 0.328477  [19200/20180]\n",
                        "Accuracy: 0.826158291619757\n",
                        "Test loss: 0.386709 \n",
                        "\n",
                        "Epoch 9\n",
                        "-------------------------------\n",
                        "loss: 0.296088  [    0/20180]\n",
                        "loss: 0.297877  [ 6400/20180]\n",
                        "loss: 0.253090  [12800/20180]\n",
                        "loss: 0.283294  [19200/20180]\n",
                        "Accuracy: 0.8305897116661072\n",
                        "Test loss: 0.376086 \n",
                        "\n",
                        "Epoch 10\n",
                        "-------------------------------\n",
                        "loss: 0.292305  [    0/20180]\n",
                        "loss: 0.291922  [ 6400/20180]\n",
                        "loss: 0.317625  [12800/20180]\n",
                        "loss: 0.300674  [19200/20180]\n",
                        "Accuracy: 0.8281253977962162\n",
                        "Test loss: 0.386106 \n",
                        "\n",
                        "Epoch 11\n",
                        "-------------------------------\n",
                        "loss: 0.312168  [    0/20180]\n",
                        "loss: 0.262418  [ 6400/20180]\n",
                        "loss: 0.268032  [12800/20180]\n",
                        "loss: 0.260180  [19200/20180]\n",
                        "Accuracy: 0.8281225315902544\n",
                        "Test loss: 0.381979 \n",
                        "\n",
                        "Epoch 12\n",
                        "-------------------------------\n",
                        "loss: 0.278884  [    0/20180]\n",
                        "loss: 0.271270  [ 6400/20180]\n",
                        "loss: 0.282441  [12800/20180]\n",
                        "loss: 0.266694  [19200/20180]\n",
                        "Accuracy: 0.8299147298802501\n",
                        "Test loss: 0.375858 \n",
                        "\n",
                        "Epoch 13\n",
                        "-------------------------------\n",
                        "loss: 0.261771  [    0/20180]\n",
                        "loss: 0.260292  [ 6400/20180]\n",
                        "loss: 0.256869  [12800/20180]\n",
                        "loss: 0.285332  [19200/20180]\n",
                        "Accuracy: 0.8336469531059265\n",
                        "Test loss: 0.368887 \n",
                        "\n",
                        "Epoch 14\n",
                        "-------------------------------\n",
                        "loss: 0.301560  [    0/20180]\n",
                        "loss: 0.285863  [ 6400/20180]\n",
                        "loss: 0.247793  [12800/20180]\n",
                        "loss: 0.267481  [19200/20180]\n",
                        "Accuracy: 0.8299280988133472\n",
                        "Test loss: 0.377014 \n",
                        "\n",
                        "Epoch 15\n",
                        "-------------------------------\n",
                        "loss: 0.277571  [    0/20180]\n",
                        "loss: 0.272842  [ 6400/20180]\n",
                        "loss: 0.277445  [12800/20180]\n",
                        "loss: 0.294960  [19200/20180]\n",
                        "Accuracy: 0.828772014249926\n",
                        "Test loss: 0.376290 \n",
                        "\n",
                        "Epoch 16\n",
                        "-------------------------------\n",
                        "loss: 0.281193  [    0/20180]\n",
                        "loss: 0.275522  [ 6400/20180]\n",
                        "loss: 0.239385  [12800/20180]\n",
                        "loss: 0.278243  [19200/20180]\n",
                        "Accuracy: 0.8287611629651941\n",
                        "Test loss: 0.380951 \n",
                        "\n",
                        "Epoch 17\n",
                        "-------------------------------\n",
                        "loss: 0.259410  [    0/20180]\n",
                        "loss: 0.246776  [ 6400/20180]\n",
                        "loss: 0.247891  [12800/20180]\n",
                        "loss: 0.315126  [19200/20180]\n",
                        "Accuracy: 0.8290093890998674\n",
                        "Test loss: 0.377342 \n",
                        "\n",
                        "Epoch 18\n",
                        "-------------------------------\n",
                        "loss: 0.279406  [    0/20180]\n",
                        "loss: 0.242786  [ 6400/20180]\n",
                        "loss: 0.283686  [12800/20180]\n",
                        "loss: 0.265621  [19200/20180]\n",
                        "Accuracy: 0.8323666038720504\n",
                        "Test loss: 0.377834 \n",
                        "\n",
                        "Epoch 19\n",
                        "-------------------------------\n",
                        "loss: 0.258774  [    0/20180]\n",
                        "loss: 0.259050  [ 6400/20180]\n",
                        "loss: 0.244112  [12800/20180]\n",
                        "loss: 0.242902  [19200/20180]\n",
                        "Accuracy: 0.8290774122528408\n",
                        "Test loss: 0.379539 \n",
                        "\n",
                        "Epoch 20\n",
                        "-------------------------------\n",
                        "loss: 0.228610  [    0/20180]\n",
                        "loss: 0.275755  [ 6400/20180]\n",
                        "loss: 0.245776  [12800/20180]\n",
                        "loss: 0.272789  [19200/20180]\n",
                        "Accuracy: 0.8285471686850423\n",
                        "Test loss: 0.380638 \n",
                        "\n",
                        "Epoch 21\n",
                        "-------------------------------\n",
                        "loss: 0.295151  [    0/20180]\n",
                        "loss: 0.230617  [ 6400/20180]\n",
                        "loss: 0.260618  [12800/20180]\n",
                        "loss: 0.275180  [19200/20180]\n",
                        "Accuracy: 0.8284649842459222\n",
                        "Test loss: 0.378671 \n",
                        "\n",
                        "Epoch 22\n",
                        "-------------------------------\n",
                        "loss: 0.291684  [    0/20180]\n",
                        "loss: 0.280345  [ 6400/20180]\n",
                        "loss: 0.256754  [12800/20180]\n",
                        "loss: 0.282209  [19200/20180]\n",
                        "Accuracy: 0.8305944748546766\n",
                        "Test loss: 0.376782 \n",
                        "\n",
                        "Epoch 23\n",
                        "-------------------------------\n",
                        "loss: 0.281434  [    0/20180]\n",
                        "loss: 0.309160  [ 6400/20180]\n",
                        "loss: 0.277075  [12800/20180]\n",
                        "loss: 0.254364  [19200/20180]\n",
                        "Accuracy: 0.8313197895236637\n",
                        "Test loss: 0.376881 \n",
                        "\n",
                        "Epoch 24\n",
                        "-------------------------------\n",
                        "loss: 0.266253  [    0/20180]\n",
                        "loss: 0.275492  [ 6400/20180]\n",
                        "loss: 0.307256  [12800/20180]\n",
                        "loss: 0.273820  [19200/20180]\n",
                        "Accuracy: 0.8305489045122395\n",
                        "Test loss: 0.380081 \n",
                        "\n",
                        "Epoch 25\n",
                        "-------------------------------\n",
                        "loss: 0.278985  [    0/20180]\n",
                        "loss: 0.272113  [ 6400/20180]\n",
                        "loss: 0.253551  [12800/20180]\n",
                        "loss: 0.264529  [19200/20180]\n",
                        "Accuracy: 0.8295719694832097\n",
                        "Test loss: 0.379484 \n",
                        "\n",
                        "Epoch 26\n",
                        "-------------------------------\n",
                        "loss: 0.259208  [    0/20180]\n",
                        "loss: 0.236440  [ 6400/20180]\n",
                        "loss: 0.256501  [12800/20180]\n",
                        "loss: 0.296363  [19200/20180]\n",
                        "Accuracy: 0.8276847043763036\n",
                        "Test loss: 0.383500 \n",
                        "\n",
                        "Epoch 27\n",
                        "-------------------------------\n",
                        "loss: 0.266819  [    0/20180]\n",
                        "loss: 0.262158  [ 6400/20180]\n",
                        "loss: 0.263044  [12800/20180]\n",
                        "loss: 0.209255  [19200/20180]\n",
                        "Accuracy: 0.8305994162093038\n",
                        "Test loss: 0.379124 \n",
                        "\n",
                        "Epoch 28\n",
                        "-------------------------------\n",
                        "loss: 0.207928  [    0/20180]\n",
                        "loss: 0.250326  [ 6400/20180]\n",
                        "loss: 0.241417  [12800/20180]\n",
                        "loss: 0.283073  [19200/20180]\n",
                        "Accuracy: 0.828192804818568\n",
                        "Test loss: 0.383215 \n",
                        "\n",
                        "Epoch 29\n",
                        "-------------------------------\n",
                        "loss: 0.266802  [    0/20180]\n",
                        "loss: 0.237211  [ 6400/20180]\n",
                        "loss: 0.248098  [12800/20180]\n",
                        "loss: 0.272584  [19200/20180]\n",
                        "Accuracy: 0.8282463148884152\n",
                        "Test loss: 0.386090 \n",
                        "\n",
                        "Epoch 30\n",
                        "-------------------------------\n",
                        "loss: 0.213165  [    0/20180]\n",
                        "loss: 0.258195  [ 6400/20180]\n",
                        "loss: 0.252708  [12800/20180]\n",
                        "loss: 0.262057  [19200/20180]\n",
                        "Accuracy: 0.8321966334529545\n",
                        "Test loss: 0.381342 \n",
                        "\n",
                        "Done!\n"
                    ]
                }
            ],
            "metadata": {}
        },
        {
            "cell_type": "markdown",
            "source": [
                "# I don't know if anything after this works"
            ],
            "metadata": {}
        },
        {
            "cell_type": "code",
            "execution_count": 29,
            "source": [
                "test_data_folder = Path('/home/ben/Desktop/Python/BlockDetectionValidation')\n",
                "test_dataloader = DataLoader(CustomDataset(test_data_folder), batch_size=64, shuffle=True)\n",
                "\n",
                "epochs = 1\n",
                "for t in range(epochs):\n",
                "    print(f\"Epoch {t+1}\\n-------------------------------\")\n",
                "    #test(train_dataloader, model, loss_fn)\n",
                "    test(test_dataloader, model, loss_fn)    \n",
                "print(\"Done!\")"
            ],
            "outputs": [
                {
                    "output_type": "stream",
                    "name": "stdout",
                    "text": [
                        "Epoch 1\n",
                        "-------------------------------\n",
                        "Accuracy: 0.7751983786406724\n",
                        "Test loss: 1.466246 \n",
                        "\n",
                        "Done!\n"
                    ]
                }
            ],
            "metadata": {}
        },
        {
            "cell_type": "code",
            "execution_count": 41,
            "source": [
                "def predict_image(path):\n",
                "    with torch.no_grad():\n",
                "\n",
                "        #image_file = to_image_path(data_file)\n",
                "        #image = read_image(image_file)\n",
                "        #image_float = image / 255\n",
                "\n",
                "        image = read_image(path) / 255\n",
                "        image_float = image.reshape(1,3,100,100).cuda()\n",
                "        pred = model(image_float)#.reshape(20, 7, 10)\n",
                "        pred = pred > 0.5\n",
                "        return pred.detach().cpu()"
            ],
            "outputs": [],
            "metadata": {}
        },
        {
            "cell_type": "code",
            "execution_count": 36,
            "source": [
                "def predict_image2(path):\n",
                "    with torch.no_grad():\n",
                "        image = read_image(path) / 255\n",
                "        image_float = image.reshape(1,3,100,100).cuda()\n",
                "        pred = model(image_float)#.reshape(20, 7, 10)\n",
                "        #pred = pred > 0.5\n",
                "        #return pred.detach().cpu().numpy()\n",
                "        return pred"
            ],
            "outputs": [],
            "metadata": {}
        },
        {
            "cell_type": "code",
            "execution_count": 57,
            "source": [
                "validation_path = Path('/home/ben/Desktop/Python/BlockDetectionValidation')\n",
                "Path('/home/ben/Desktop/Python/BlockDetectionValidation/Predictions').mkdir(parents=true, exist_ok=true)\n",
                "validation_files = validation_path.ls()\n",
                "\n",
                "for file in validation_files:\n",
                "    if (file.is_file()):\n",
                "        image_file = to_image_path(file)\n",
                "        actual = to_tensor(file)\n",
                "        prediction = predict_image(image_file)\n",
                "        #print(prediction.shape)\n",
                "        difference = compute_dif(prediction, actual.reshape(1, -1))\n",
                "        prediction = prediction.reshape(20,7,10).numpy()\n",
                "\n",
                "        print(prediction.shape)\n",
                "        print(actual.shape)\n",
                "\n",
                "        print('Actual')\n",
                "        show_scatter(actual)\n",
                "        print('Prediction')\n",
                "        show_scatter(prediction)\n",
                "        print('Diff')\n",
                "        print(type(actual))\n",
                "        dif = actual - prediction\n",
                "        show_scatter(dif)\n",
                "        \n",
                "\n",
                "\n",
                "        print(difference)\n",
                "        print(file)\n",
                "        print(actual.sum())\n",
                "        break\n",
                "\n",
                "\n",
                "        #prediction_output_path = str(file).replace('BlockDetectionValidation', 'BlockDetectionValidation/Predictions')\n",
                "        #print(prediction_output_path)\n",
                "        #np.savetxt(prediction_output_path, prediction)\n",
                "        "
            ],
            "outputs": [
                {
                    "output_type": "stream",
                    "name": "stdout",
                    "text": [
                        "(20, 7, 10)\n",
                        "(20, 7, 10)\n",
                        "Actual\n"
                    ]
                },
                {
                    "output_type": "display_data",
                    "data": {
                        "text/plain": [
                            "VBox(children=(Figure(camera=PerspectiveCamera(fov=45.0, position=(0.0, 0.0, 2.0), projectionMatrix=(1.0, 0.0,…"
                        ],
                        "application/vnd.jupyter.widget-view+json": {
                            "version_major": 2,
                            "version_minor": 0,
                            "model_id": "710d6a12c85b4aec955d51d9d85e65f4"
                        }
                    },
                    "metadata": {}
                },
                {
                    "output_type": "stream",
                    "name": "stdout",
                    "text": [
                        "Prediction\n"
                    ]
                },
                {
                    "output_type": "display_data",
                    "data": {
                        "text/plain": [
                            "VBox(children=(Figure(camera=PerspectiveCamera(fov=45.0, position=(0.0, 0.0, 2.0), projectionMatrix=(1.0, 0.0,…"
                        ],
                        "application/vnd.jupyter.widget-view+json": {
                            "version_major": 2,
                            "version_minor": 0,
                            "model_id": "54559a5925cd4202af74e9ff669b9e9f"
                        }
                    },
                    "metadata": {}
                },
                {
                    "output_type": "stream",
                    "name": "stdout",
                    "text": [
                        "Diff\n",
                        "<class 'numpy.ndarray'>\n"
                    ]
                },
                {
                    "output_type": "display_data",
                    "data": {
                        "text/plain": [
                            "VBox(children=(Figure(camera=PerspectiveCamera(fov=45.0, position=(0.0, 0.0, 2.0), projectionMatrix=(1.0, 0.0,…"
                        ],
                        "application/vnd.jupyter.widget-view+json": {
                            "version_major": 2,
                            "version_minor": 0,
                            "model_id": "1c4c6181a6c141329aad52f739116885"
                        }
                    },
                    "metadata": {}
                },
                {
                    "output_type": "stream",
                    "name": "stdout",
                    "text": [
                        "tensor(0.9143)\n",
                        "/home/ben/Desktop/Python/BlockDetectionValidation/biome.minecraft.mountains331.txt\n",
                        "599.0\n"
                    ]
                }
            ],
            "metadata": {}
        },
        {
            "cell_type": "code",
            "execution_count": null,
            "source": [
                "#with torch.no_grad():\n",
                "path = '/home/ben/Desktop/Python/BlockDetection/screenshots/biome.minecraft.beach106.png'\n",
                "image = read_image(path) / 255\n",
                "image_float = image.reshape(1,3,100,100).cuda()\n",
                "\n",
                "pred = model(image_float).reshape(20, 7, 10)\n",
                "pred = pred > 0.5\n",
                "print(pred.shape)\n",
                "result = pred.detach().cpu().numpy()\n",
                "np.savetxt('output.csv', result)\n",
                "actual = to_tensor('/home/ben/Desktop/Python/BlockDetection/biome.minecraft.beach106.txt')\n",
                "actual = torch.tensor(actual)\n",
                "\n",
                "actual.shape, pred.shape\n",
                "\n",
                "print(pred.type())\n",
                "print(actual.type())\n",
                "actual_torch = torch.tensor(actual).cuda()\n",
                "pred_torch = torch.tensor(pred, dtype=torch.float)\n",
                "\n",
                "pred_torch.is_cuda\n",
                "\n",
                "dif_torch = actual_torch - pred_torch\n",
                "dif_torch.sum(), actual_torch.sum(), pred_torch.sum()\n"
            ],
            "outputs": [
                {
                    "output_type": "error",
                    "ename": "RuntimeError",
                    "evalue": "[Errno 2] No such file or directory: '/home/ben/Desktop/Python/BlockDetection/screenshots/biome.minecraft.beach106.png'",
                    "traceback": [
                        "\u001b[0;31m---------------------------------------------------------------------------\u001b[0m",
                        "\u001b[0;31mRuntimeError\u001b[0m                              Traceback (most recent call last)",
                        "\u001b[0;32m<ipython-input-51-57e6aba4df5e>\u001b[0m in \u001b[0;36m<module>\u001b[0;34m\u001b[0m\n\u001b[1;32m      1\u001b[0m \u001b[0;31m#with torch.no_grad():\u001b[0m\u001b[0;34m\u001b[0m\u001b[0;34m\u001b[0m\u001b[0;34m\u001b[0m\u001b[0m\n\u001b[1;32m      2\u001b[0m \u001b[0mpath\u001b[0m \u001b[0;34m=\u001b[0m \u001b[0;34m'/home/ben/Desktop/Python/BlockDetection/screenshots/biome.minecraft.beach106.png'\u001b[0m\u001b[0;34m\u001b[0m\u001b[0;34m\u001b[0m\u001b[0m\n\u001b[0;32m----> 3\u001b[0;31m \u001b[0mimage\u001b[0m \u001b[0;34m=\u001b[0m \u001b[0mread_image\u001b[0m\u001b[0;34m(\u001b[0m\u001b[0mpath\u001b[0m\u001b[0;34m)\u001b[0m \u001b[0;34m/\u001b[0m \u001b[0;36m255\u001b[0m\u001b[0;34m\u001b[0m\u001b[0;34m\u001b[0m\u001b[0m\n\u001b[0m\u001b[1;32m      4\u001b[0m \u001b[0mimage_float\u001b[0m \u001b[0;34m=\u001b[0m \u001b[0mimage\u001b[0m\u001b[0;34m.\u001b[0m\u001b[0mreshape\u001b[0m\u001b[0;34m(\u001b[0m\u001b[0;36m1\u001b[0m\u001b[0;34m,\u001b[0m\u001b[0;36m3\u001b[0m\u001b[0;34m,\u001b[0m\u001b[0;36m100\u001b[0m\u001b[0;34m,\u001b[0m\u001b[0;36m100\u001b[0m\u001b[0;34m)\u001b[0m\u001b[0;34m.\u001b[0m\u001b[0mcuda\u001b[0m\u001b[0;34m(\u001b[0m\u001b[0;34m)\u001b[0m\u001b[0;34m\u001b[0m\u001b[0;34m\u001b[0m\u001b[0m\n\u001b[1;32m      5\u001b[0m \u001b[0;34m\u001b[0m\u001b[0m\n",
                        "\u001b[0;32m~/anaconda3/envs/ml2/lib/python3.8/site-packages/torchvision/io/image.py\u001b[0m in \u001b[0;36mread_image\u001b[0;34m(path)\u001b[0m\n\u001b[1;32m    227\u001b[0m     \u001b[0moutput\u001b[0m\u001b[0;34m:\u001b[0m \u001b[0mTensor\u001b[0m\u001b[0;34m[\u001b[0m\u001b[0;36m3\u001b[0m\u001b[0;34m,\u001b[0m \u001b[0mimage_height\u001b[0m\u001b[0;34m,\u001b[0m \u001b[0mimage_width\u001b[0m\u001b[0;34m]\u001b[0m\u001b[0;34m\u001b[0m\u001b[0;34m\u001b[0m\u001b[0m\n\u001b[1;32m    228\u001b[0m     \"\"\"\n\u001b[0;32m--> 229\u001b[0;31m     \u001b[0mdata\u001b[0m \u001b[0;34m=\u001b[0m \u001b[0mread_file\u001b[0m\u001b[0;34m(\u001b[0m\u001b[0mpath\u001b[0m\u001b[0;34m)\u001b[0m\u001b[0;34m\u001b[0m\u001b[0;34m\u001b[0m\u001b[0m\n\u001b[0m\u001b[1;32m    230\u001b[0m     \u001b[0;32mreturn\u001b[0m \u001b[0mdecode_image\u001b[0m\u001b[0;34m(\u001b[0m\u001b[0mdata\u001b[0m\u001b[0;34m)\u001b[0m\u001b[0;34m\u001b[0m\u001b[0;34m\u001b[0m\u001b[0m\n",
                        "\u001b[0;32m~/anaconda3/envs/ml2/lib/python3.8/site-packages/torchvision/io/image.py\u001b[0m in \u001b[0;36mread_file\u001b[0;34m(path)\u001b[0m\n\u001b[1;32m     59\u001b[0m         \u001b[0mdata\u001b[0m \u001b[0;34m(\u001b[0m\u001b[0mTensor\u001b[0m\u001b[0;34m)\u001b[0m\u001b[0;34m\u001b[0m\u001b[0;34m\u001b[0m\u001b[0m\n\u001b[1;32m     60\u001b[0m     \"\"\"\n\u001b[0;32m---> 61\u001b[0;31m     \u001b[0mdata\u001b[0m \u001b[0;34m=\u001b[0m \u001b[0mtorch\u001b[0m\u001b[0;34m.\u001b[0m\u001b[0mops\u001b[0m\u001b[0;34m.\u001b[0m\u001b[0mimage\u001b[0m\u001b[0;34m.\u001b[0m\u001b[0mread_file\u001b[0m\u001b[0;34m(\u001b[0m\u001b[0mpath\u001b[0m\u001b[0;34m)\u001b[0m\u001b[0;34m\u001b[0m\u001b[0;34m\u001b[0m\u001b[0m\n\u001b[0m\u001b[1;32m     62\u001b[0m     \u001b[0;32mreturn\u001b[0m \u001b[0mdata\u001b[0m\u001b[0;34m\u001b[0m\u001b[0;34m\u001b[0m\u001b[0m\n\u001b[1;32m     63\u001b[0m \u001b[0;34m\u001b[0m\u001b[0m\n",
                        "\u001b[0;31mRuntimeError\u001b[0m: [Errno 2] No such file or directory: '/home/ben/Desktop/Python/BlockDetection/screenshots/biome.minecraft.beach106.png'"
                    ]
                }
            ],
            "metadata": {}
        },
        {
            "cell_type": "code",
            "execution_count": null,
            "source": [
                "    #with torch.no_grad():\n",
                "    #path = '/home/ben/Desktop/Python/BlockDetection/screenshots/biome.minecraft.beach106.png'\n",
                "    #image = read_image(path)\n",
                "    #image.resize(100, 100)\n",
                "    #image_float = image / 255\n",
                "    #print(image_float.shape)\n",
                "    #image_float = image_float.reshape(1,3,100,100).cuda()\n",
                "    #print(image_float.is_cuda)\n",
                "    #pred = model(image_float)#.reshape(20, 7, 10)\n",
                "    #print(str(pred))\n",
                "    #pred = pred > 0.5\n",
                "    #print(pred.shape)\n",
                "    #result = pred.detach().cpu().numpy()\n",
                "    #np.savetxt('output.csv', result)"
            ],
            "outputs": [
                {
                    "output_type": "stream",
                    "name": "stdout",
                    "text": [
                        "torch.Size([3, 100, 100])\n",
                        "True\n",
                        "torch.Size([1, 1400])\n"
                    ]
                }
            ],
            "metadata": {}
        },
        {
            "cell_type": "code",
            "execution_count": null,
            "source": [
                "actual = to_tensor('/home/ben/Desktop/Python/BlockDetection/biome.minecraft.beach106.txt')"
            ],
            "outputs": [],
            "metadata": {}
        },
        {
            "cell_type": "code",
            "execution_count": null,
            "source": [
                "type(result), result"
            ],
            "outputs": [
                {
                    "output_type": "execute_result",
                    "data": {
                        "text/plain": [
                            "(numpy.ndarray,\n",
                            " array([[ 0.7590272 ,  1.1494421 ,  1.1465473 , ...,  0.03555972,  0.13010326, -0.38936177]], dtype=float32))"
                        ]
                    },
                    "metadata": {},
                    "execution_count": 70
                }
            ],
            "metadata": {}
        },
        {
            "cell_type": "code",
            "execution_count": null,
            "source": [
                "def save(obj, name):\n",
                "    "
            ],
            "outputs": [],
            "metadata": {}
        },
        {
            "cell_type": "code",
            "execution_count": null,
            "source": [
                "#with torch.no_grad():\n",
                "path = '/home/ben/Desktop/Python/BlockDetection/screenshots/biome.minecraft.beach106.png'\n",
                "image = read_image(path) / 255\n",
                "image_float = image.reshape(1,3,100,100).cuda()\n",
                "\n",
                "pred = model(image_float).reshape(20, 7, 10)\n",
                "pred = pred > 0.5\n",
                "print(pred.shape)\n",
                "result = pred.detach().cpu().numpy()\n",
                "np.savetxt('output.csv', result)\n",
                "actual = to_tensor('/home/ben/Desktop/Python/BlockDetection/biome.minecraft.beach106.txt')\n",
                "actual = torch.tensor(actual)\n",
                "\n",
                "actual.shape, pred.shape\n",
                "\n",
                "print(pred.type())\n",
                "print(actual.type())\n",
                "actual_torch = torch.tensor(actual).cuda()\n",
                "pred_torch = torch.tensor(pred, dtype=torch.float)\n",
                "\n",
                "pred_torch.is_cuda\n",
                "\n",
                "dif_torch = actual_torch - pred_torch\n",
                "dif_torch.sum(), actual_torch.sum(), pred_torch.sum()\n"
            ],
            "outputs": [
                {
                    "output_type": "error",
                    "ename": "NameError",
                    "evalue": "name 'read_image' is not defined",
                    "traceback": [
                        "\u001b[0;31m---------------------------------------------------------------------------\u001b[0m",
                        "\u001b[0;31mNameError\u001b[0m                                 Traceback (most recent call last)",
                        "\u001b[0;32m<ipython-input-1-57e6aba4df5e>\u001b[0m in \u001b[0;36m<module>\u001b[0;34m\u001b[0m\n\u001b[1;32m      1\u001b[0m \u001b[0;31m#with torch.no_grad():\u001b[0m\u001b[0;34m\u001b[0m\u001b[0;34m\u001b[0m\u001b[0;34m\u001b[0m\u001b[0m\n\u001b[1;32m      2\u001b[0m \u001b[0mpath\u001b[0m \u001b[0;34m=\u001b[0m \u001b[0;34m'/home/ben/Desktop/Python/BlockDetection/screenshots/biome.minecraft.beach106.png'\u001b[0m\u001b[0;34m\u001b[0m\u001b[0;34m\u001b[0m\u001b[0m\n\u001b[0;32m----> 3\u001b[0;31m \u001b[0mimage\u001b[0m \u001b[0;34m=\u001b[0m \u001b[0mread_image\u001b[0m\u001b[0;34m(\u001b[0m\u001b[0mpath\u001b[0m\u001b[0;34m)\u001b[0m \u001b[0;34m/\u001b[0m \u001b[0;36m255\u001b[0m\u001b[0;34m\u001b[0m\u001b[0;34m\u001b[0m\u001b[0m\n\u001b[0m\u001b[1;32m      4\u001b[0m \u001b[0mimage_float\u001b[0m \u001b[0;34m=\u001b[0m \u001b[0mimage\u001b[0m\u001b[0;34m.\u001b[0m\u001b[0mreshape\u001b[0m\u001b[0;34m(\u001b[0m\u001b[0;36m1\u001b[0m\u001b[0;34m,\u001b[0m\u001b[0;36m3\u001b[0m\u001b[0;34m,\u001b[0m\u001b[0;36m100\u001b[0m\u001b[0;34m,\u001b[0m\u001b[0;36m100\u001b[0m\u001b[0;34m)\u001b[0m\u001b[0;34m.\u001b[0m\u001b[0mcuda\u001b[0m\u001b[0;34m(\u001b[0m\u001b[0;34m)\u001b[0m\u001b[0;34m\u001b[0m\u001b[0;34m\u001b[0m\u001b[0m\n\u001b[1;32m      5\u001b[0m \u001b[0;34m\u001b[0m\u001b[0m\n",
                        "\u001b[0;31mNameError\u001b[0m: name 'read_image' is not defined"
                    ]
                }
            ],
            "metadata": {}
        }
    ],
    "metadata": {
        "orig_nbformat": 4,
        "language_info": {
            "name": "python",
            "version": "3.8.8",
            "mimetype": "text/x-python",
            "codemirror_mode": {
                "name": "ipython",
                "version": 3
            },
            "pygments_lexer": "ipython3",
            "nbconvert_exporter": "python",
            "file_extension": ".py"
        },
        "kernelspec": {
            "name": "python3",
            "display_name": "Python 3.8.8 64-bit ('ml2': conda)"
        },
        "interpreter": {
            "hash": "06482788fdae41cf3dc33faed5057546bb1dde851f20e69938e6ab8da0d8065e"
        }
    },
    "nbformat": 4,
    "nbformat_minor": 2
}